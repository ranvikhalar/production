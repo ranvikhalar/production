{
 "cells": [
  {
   "cell_type": "code",
   "execution_count": 2,
   "metadata": {},
   "outputs": [],
   "source": [
    "%load_ext dotenv\n",
    "%dotenv \n",
    "import os\n",
    "import sys\n",
    "sys.path.append(os.getenv('SRC_DIR'))\n",
    "from logger import get_logger\n",
    "_logs = get_logger(__name__)"
   ]
  },
  {
   "cell_type": "code",
   "execution_count": 3,
   "metadata": {},
   "outputs": [
    {
     "name": "stderr",
     "output_type": "stream",
     "text": [
      "c:\\Users\\15199\\miniconda3\\envs\\dsi_participant\\lib\\site-packages\\dask\\dataframe\\_pyarrow_compat.py:15: FutureWarning: Minimal version of pyarrow will soon be increased to 14.0.1. You are using 11.0.0. Please consider upgrading.\n",
      "  warnings.warn(\n"
     ]
    }
   ],
   "source": [
    "import dask.dataframe as dd\n",
    "import pandas as pd\n",
    "import numpy as np\n",
    "import os\n",
    "from glob import glob"
   ]
  },
  {
   "cell_type": "code",
   "execution_count": 4,
   "metadata": {},
   "outputs": [
    {
     "data": {
      "text/plain": [
       "'../../05_src/data/features/stock_features.parquet\\\\*.parquet'"
      ]
     },
     "execution_count": 4,
     "metadata": {},
     "output_type": "execute_result"
    }
   ],
   "source": [
    "ft_dir = os.getenv(\"FEATURES_DATA\")\n",
    "os.path.join(ft_dir, '*.parquet')"
   ]
  },
  {
   "cell_type": "code",
   "execution_count": 5,
   "metadata": {},
   "outputs": [],
   "source": [
    "ft_dir = os.getenv(\"FEATURES_DATA\")\n",
    "ft_glob = glob(ft_dir+'/*.parquet')\n",
    "df = dd.read_parquet(ft_glob).compute().reset_index()"
   ]
  },
  {
   "cell_type": "code",
   "execution_count": 6,
   "metadata": {},
   "outputs": [
    {
     "data": {
      "text/plain": [
       "array(['DOV', 'CBRE', 'FANG', 'DTE', 'AOS', 'BDX', 'BA', 'KEY', 'BXP',\n",
       "       'INCY', 'ORLY', 'BRO', 'CTVA', 'MCO', 'REG', 'FITB', 'RTX', 'FSLR',\n",
       "       'HAS', 'ZBH', 'HWM', 'RL', 'APA', 'HSY', 'LDOS', 'MRNA', 'ECL',\n",
       "       'BF.B', 'FLT', 'PFE', 'BIIB', 'FOXA', 'PNW', 'STZ', 'INTU', 'AEE',\n",
       "       'SNPS', 'GWW', 'LH', 'IBM', 'TFX', 'CCL', 'WM', 'VZ', 'DFS', 'FDX',\n",
       "       'VRSK', 'UHS', 'PARA', 'XEL', 'FOX', 'ZTS', 'CTSH', 'AAL', 'AIG',\n",
       "       'BR', 'EL', 'JNJ', 'LIN', 'EQR', 'MTCH', 'EOG', 'CCI', 'WST',\n",
       "       'HAL', 'MOH', 'NKE', 'KMB', 'TDY', 'TMUS', 'KLAC', 'MSCI', 'TAP',\n",
       "       'GPN', 'MCK', 'AES', 'JCI', 'TDG', 'VLO', 'CAH', 'GM', 'ED', 'SNA',\n",
       "       'DOW', 'CMA', 'TRMB', 'DE', 'GE', 'LHX', 'META', 'CEG', 'AMP',\n",
       "       'MCHP', 'AEP', 'KMI', 'TSN', 'PEAK', 'UNH', 'TRGP', 'IDXX', 'PFG',\n",
       "       'GRMN', 'MOS', 'IFF', 'MO', 'ETSY', 'HSIC', 'AME', 'IQV', 'INVH',\n",
       "       'MRK', 'EW', 'PM', 'ANSS', 'TROW', 'ABBV', 'EXPD', 'MAA', 'D',\n",
       "       'PSA', 'CRM', 'EG', 'XRAY', 'WFC', 'MHK', 'KEYS', 'KIM', 'DVA',\n",
       "       'MS', 'LULU', 'HOLX', 'AIZ', 'DLTR', 'NDSN', 'AXON', 'NCLH',\n",
       "       'HBAN', 'AWK', 'PLD', 'WMT', 'ALGN', 'TSLA', 'PAYX', 'MTB', 'BAC',\n",
       "       'WY', 'USB', 'CBOE', 'CAT', 'C', 'COP', 'CINF', 'CE', 'RHI', 'PCG',\n",
       "       'PODD', 'BBWI', 'TRV', 'DPZ', 'OTIS', 'PXD', 'LW', 'RCL', 'PTC',\n",
       "       'HLT', 'SYF', 'XOM', 'MET', 'EQT', 'LRCX', 'STX', 'SBUX', 'WAT',\n",
       "       'F', 'IVZ', 'FAST', 'PEG', 'NSC', 'ARE', 'WEC', 'ABNB', 'SPG',\n",
       "       'CDW', 'NUE', 'PPL', 'ANET', 'GL', 'AKAM', 'EVRG', 'CSX', 'TTWO',\n",
       "       'AMD', 'FIS', 'PCAR', 'WBD', 'VMC', 'AVY', 'BSX', 'WRB', 'APH',\n",
       "       'WELL', 'ALLE', 'NOW', 'OKE', 'NDAQ', 'EPAM', 'NWS', 'APTV', 'TXN',\n",
       "       'PH', 'IR', 'IEX', 'ZION', 'ON', 'UNP', 'BKR', 'PHM', 'MAS',\n",
       "       'CARR', 'TER', 'T', 'POOL', 'TMO', 'ICE', 'DXCM', 'IT', 'MDLZ',\n",
       "       'CNP', 'ROP', 'BWA', 'YUM', 'FICO', 'FRT', 'CSGP', 'CVX', 'BG',\n",
       "       'IRM', 'VTRS', 'ROST', 'ADBE', 'ABT', 'ADP', 'TECH', 'NWSA', 'BMY',\n",
       "       'SYK', 'NVDA', 'MU', 'NTAP', 'GIS', 'MA', 'AVB', 'PG', 'DRI', 'CF',\n",
       "       'HUM', 'DGX', 'DD', 'GPC', 'V', 'AXP', 'HES', 'CB', 'NFLX', 'ETR',\n",
       "       'DUK', 'HIG', 'ADI', 'MSFT', 'VTR', 'BEN', 'REGN', 'GLW', 'UPS',\n",
       "       'EMR', 'ROL', 'SPGI', 'JNPR', 'ORCL', 'DG', 'OXY', 'MKTX', 'ISRG',\n",
       "       'HST', 'O', 'CTRA', 'IP', 'GD', 'ULTA', 'CFG', 'NRG', 'NEM',\n",
       "       'CPRT', 'JKHY', 'PRU', 'AMCR', 'TJX', 'BBY', 'FE', 'OMC', 'DAL',\n",
       "       'SHW', 'ATO', 'J', 'VRTX', 'BK', 'TSCO', 'WRK', 'CHRW', 'PWR',\n",
       "       'NTRS', 'MSI', 'AMT', 'VICI', 'FTNT', 'ROK', 'HRL', 'NEE', 'JPM',\n",
       "       'CHD', 'DLR', 'MMM', 'PYPL', 'CVS', 'AFL', 'CSCO', 'IPG', 'DIS',\n",
       "       'ACN', 'EXR', 'RVTY', 'GILD', 'ALL', 'LEN', 'LLY', 'UDR', 'TYL',\n",
       "       'SJM', 'CNC', 'ADM', 'COST', 'TGT', 'SYY', 'PNR', 'CMI', 'TEL',\n",
       "       'FTV', 'APD', 'AMZN', 'QRVO', 'GEHC', 'TXT', 'PNC', 'LUV', 'NOC',\n",
       "       'SCHW', 'ES', 'JBL', 'ETN', 'RMD', 'FFIV', 'SLB', 'AON', 'BLK',\n",
       "       'ITW', 'LVS', 'EQIX', 'ALB', 'ILMN', 'BLDR', 'AJG', 'STLD', 'MGM',\n",
       "       'CZR', 'L', 'BAX', 'WYNN', 'MPC', 'DHR', 'LYV', 'KDP', 'ELV',\n",
       "       'UAL', 'LYB', 'AVGO', 'PKG', 'KR', 'MCD', 'KHC', 'EFX', 'DVN',\n",
       "       'ODFL', 'STT', 'DAY', 'TPR', 'PEP', 'VRSN', 'MMC', 'FMC', 'PAYC',\n",
       "       'MTD', 'ADSK', 'PGR', 'FCX', 'SWK', 'LOW', 'EXPE', 'SRE', 'PPG',\n",
       "       'WDC', 'AMGN', 'GOOGL', 'COF', 'FDS', 'PANW', 'VFC', 'MNST', 'MLM',\n",
       "       'GEN', 'CLX', 'HPE', 'NXPI', 'CHTR', 'RF', 'A', 'EIX', 'HON', 'SO',\n",
       "       'ENPH', 'RSG', 'WHR', 'MRO', 'PSX', 'ZBRA', 'CMCSA', 'MAR', 'CI',\n",
       "       'AAPL', 'DHI', 'WAB', 'CRL', 'GNRC', 'CTAS', 'BKNG', 'GS', 'CMS',\n",
       "       'WMB', 'NI', 'K', 'LMT', 'HD', 'AMAT', 'AZO', 'EMN', 'LNT', 'GOOG',\n",
       "       'ACGL', 'EA', 'FI', 'BALL', 'QCOM', 'HII', 'RJF', 'CPB', 'HPQ',\n",
       "       'CDNS', 'NVR', 'CL', 'MPWR', 'XYL', 'BIO', 'UBER', 'JBHT', 'COR',\n",
       "       'KMX', 'CMG', 'ESS', 'BRK.B', 'HCA', 'CME', 'BX', 'WTW', 'MKC',\n",
       "       'STE', 'KVUE', 'INTC', 'CPT', 'SWKS', 'HUBB', 'EXC', 'COO', 'CAG',\n",
       "       'WBA', 'TT', 'EBAY', 'LKQ', 'URI', 'MDT', 'SBAC', 'VLTO', 'TFC',\n",
       "       'KO', 'CTLT'], dtype=object)"
      ]
     },
     "execution_count": 6,
     "metadata": {},
     "output_type": "execute_result"
    }
   ],
   "source": [
    "df['Ticker'].unique()"
   ]
  },
  {
   "cell_type": "markdown",
   "metadata": {},
   "source": [
    "# Sampling in Python"
   ]
  },
  {
   "cell_type": "markdown",
   "metadata": {},
   "source": [
    "+ There are different packages that allow sampling.\n",
    "+ A practical approach is to use pandas/Dask sampling methods."
   ]
  },
  {
   "cell_type": "markdown",
   "metadata": {},
   "source": [
    "## Random Sampling\n",
    "\n",
    "+ Sample n rows from a dataframe with [`df.sample()`](https://pandas.pydata.org/docs/reference/api/pandas.DataFrame.sample.html).\n",
    "\n",
    "```\n",
    "DataFrame.sample(\n",
    "    n=None, frac=None, replace=False, weights=None, \n",
    "    random_state=None, axis=None, ignore_index=False\n",
    "    )\n",
    "```"
   ]
  },
  {
   "cell_type": "code",
   "execution_count": 7,
   "metadata": {},
   "outputs": [
    {
     "data": {
      "text/html": [
       "<div>\n",
       "<style scoped>\n",
       "    .dataframe tbody tr th:only-of-type {\n",
       "        vertical-align: middle;\n",
       "    }\n",
       "\n",
       "    .dataframe tbody tr th {\n",
       "        vertical-align: top;\n",
       "    }\n",
       "\n",
       "    .dataframe thead th {\n",
       "        text-align: right;\n",
       "    }\n",
       "</style>\n",
       "<table border=\"1\" class=\"dataframe\">\n",
       "  <thead>\n",
       "    <tr style=\"text-align: right;\">\n",
       "      <th>Price</th>\n",
       "      <th>Ticker</th>\n",
       "      <th>Date</th>\n",
       "      <th>Adj Close</th>\n",
       "      <th>Close</th>\n",
       "      <th>High</th>\n",
       "      <th>Low</th>\n",
       "      <th>Open</th>\n",
       "      <th>Volume</th>\n",
       "      <th>Year</th>\n",
       "      <th>Close_lag_1</th>\n",
       "    </tr>\n",
       "  </thead>\n",
       "  <tbody>\n",
       "    <tr>\n",
       "      <th>2772847</th>\n",
       "      <td>WAB</td>\n",
       "      <td>2007-03-13 00:00:00+00:00</td>\n",
       "      <td>14.814154</td>\n",
       "      <td>15.860000</td>\n",
       "      <td>16.285000</td>\n",
       "      <td>15.690000</td>\n",
       "      <td>16.215000</td>\n",
       "      <td>756600.0</td>\n",
       "      <td>2007</td>\n",
       "      <td>16.315001</td>\n",
       "    </tr>\n",
       "    <tr>\n",
       "      <th>2653309</th>\n",
       "      <td>HPE</td>\n",
       "      <td>2009-04-16 00:00:00+00:00</td>\n",
       "      <td>NaN</td>\n",
       "      <td>NaN</td>\n",
       "      <td>NaN</td>\n",
       "      <td>NaN</td>\n",
       "      <td>NaN</td>\n",
       "      <td>NaN</td>\n",
       "      <td>2009</td>\n",
       "      <td>NaN</td>\n",
       "    </tr>\n",
       "    <tr>\n",
       "      <th>2812898</th>\n",
       "      <td>CMS</td>\n",
       "      <td>2021-11-29 00:00:00+00:00</td>\n",
       "      <td>55.614101</td>\n",
       "      <td>61.130001</td>\n",
       "      <td>61.250000</td>\n",
       "      <td>59.900002</td>\n",
       "      <td>60.330002</td>\n",
       "      <td>1160000.0</td>\n",
       "      <td>2021</td>\n",
       "      <td>60.130001</td>\n",
       "    </tr>\n",
       "    <tr>\n",
       "      <th>2938014</th>\n",
       "      <td>CDNS</td>\n",
       "      <td>2005-10-28 00:00:00+00:00</td>\n",
       "      <td>16.000000</td>\n",
       "      <td>16.000000</td>\n",
       "      <td>16.110001</td>\n",
       "      <td>15.820000</td>\n",
       "      <td>16.100000</td>\n",
       "      <td>2504300.0</td>\n",
       "      <td>2005</td>\n",
       "      <td>16.150000</td>\n",
       "    </tr>\n",
       "    <tr>\n",
       "      <th>654040</th>\n",
       "      <td>IFF</td>\n",
       "      <td>2009-07-29 00:00:00+00:00</td>\n",
       "      <td>24.006842</td>\n",
       "      <td>34.049999</td>\n",
       "      <td>34.430000</td>\n",
       "      <td>33.950001</td>\n",
       "      <td>34.299999</td>\n",
       "      <td>729400.0</td>\n",
       "      <td>2009</td>\n",
       "      <td>34.500000</td>\n",
       "    </tr>\n",
       "  </tbody>\n",
       "</table>\n",
       "</div>"
      ],
      "text/plain": [
       "Price   Ticker                      Date  Adj Close      Close       High  \\\n",
       "2772847    WAB 2007-03-13 00:00:00+00:00  14.814154  15.860000  16.285000   \n",
       "2653309    HPE 2009-04-16 00:00:00+00:00        NaN        NaN        NaN   \n",
       "2812898    CMS 2021-11-29 00:00:00+00:00  55.614101  61.130001  61.250000   \n",
       "2938014   CDNS 2005-10-28 00:00:00+00:00  16.000000  16.000000  16.110001   \n",
       "654040     IFF 2009-07-29 00:00:00+00:00  24.006842  34.049999  34.430000   \n",
       "\n",
       "Price          Low       Open     Volume  Year  Close_lag_1  \n",
       "2772847  15.690000  16.215000   756600.0  2007    16.315001  \n",
       "2653309        NaN        NaN        NaN  2009          NaN  \n",
       "2812898  59.900002  60.330002  1160000.0  2021    60.130001  \n",
       "2938014  15.820000  16.100000  2504300.0  2005    16.150000  \n",
       "654040   33.950001  34.299999   729400.0  2009    34.500000  "
      ]
     },
     "execution_count": 7,
     "metadata": {},
     "output_type": "execute_result"
    }
   ],
   "source": [
    "df.sample(n = 5, random_state=42)"
   ]
  },
  {
   "cell_type": "code",
   "execution_count": 8,
   "metadata": {},
   "outputs": [
    {
     "data": {
      "text/plain": [
       "['OXY', 'TXN', 'PCG', 'CBRE', 'ROK', 'AMT', 'D', 'YUM', 'PWR']"
      ]
     },
     "execution_count": 8,
     "metadata": {},
     "output_type": "execute_result"
    }
   ],
   "source": [
    "# select_tickers = df['ticker'].unique().tolist()[0:9]\n",
    "select_tickers = ['OXY', 'TXN', 'PCG', 'CBRE', 'ROK', 'AMT', 'D', 'YUM', 'PWR']\n",
    "select_tickers"
   ]
  },
  {
   "cell_type": "code",
   "execution_count": 9,
   "metadata": {},
   "outputs": [
    {
     "data": {
      "text/plain": [
       "((5676, 10), (56763, 10))"
      ]
     },
     "execution_count": 9,
     "metadata": {},
     "output_type": "execute_result"
    }
   ],
   "source": [
    "idx = df['Ticker'].isin(select_tickers)\n",
    "small_df = df[idx]\n",
    "simple_sample_dt = small_df.sample(frac = 0.1)\n",
    "simple_sample_dt.shape, small_df.shape"
   ]
  },
  {
   "cell_type": "markdown",
   "metadata": {},
   "source": [
    "Look at the distribution of tickers."
   ]
  },
  {
   "cell_type": "code",
   "execution_count": 10,
   "metadata": {},
   "outputs": [
    {
     "data": {
      "text/plain": [
       "<Axes: xlabel='Ticker'>"
      ]
     },
     "execution_count": 10,
     "metadata": {},
     "output_type": "execute_result"
    },
    {
     "data": {
      "image/png": "[encoded data removed]",
      "text/plain": [
       "<Figure size 640x480 with 1 Axes>"
      ]
     },
     "metadata": {},
     "output_type": "display_data"
    }
   ],
   "source": [
    "small_df['Ticker'].value_counts().plot(kind='bar')"
   ]
  },
  {
   "cell_type": "code",
   "execution_count": 11,
   "metadata": {},
   "outputs": [
    {
     "data": {
      "text/plain": [
       "<Axes: xlabel='Ticker'>"
      ]
     },
     "execution_count": 11,
     "metadata": {},
     "output_type": "execute_result"
    },
    {
     "data": {
      "image/png": "[encoded data removed]",
      "text/plain": [
       "<Figure size 640x480 with 1 Axes>"
      ]
     },
     "metadata": {},
     "output_type": "display_data"
    }
   ],
   "source": [
    "simple_sample_dt['Ticker'].value_counts().plot(kind='bar')"
   ]
  },
  {
   "cell_type": "markdown",
   "metadata": {},
   "source": [
    "## Stratified Sampling\n",
    "\n",
    "+ Use `groupby()` and `.sample()` for stratified sampling."
   ]
  },
  {
   "cell_type": "code",
   "execution_count": 12,
   "metadata": {},
   "outputs": [
    {
     "data": {
      "text/plain": [
       "<Axes: xlabel='Ticker'>"
      ]
     },
     "execution_count": 12,
     "metadata": {},
     "output_type": "execute_result"
    },
    {
     "data": {
      "image/png": "[encoded data removed]",
      "text/plain": [
       "<Figure size 640x480 with 1 Axes>"
      ]
     },
     "metadata": {},
     "output_type": "display_data"
    }
   ],
   "source": [
    "strat_sample_dt = small_df.groupby(['Ticker']).sample(frac = 0.1)\n",
    "strat_sample_dt['Ticker'].value_counts().plot(kind='bar')"
   ]
  },
  {
   "cell_type": "markdown",
   "metadata": {},
   "source": [
    "# Sampling in Dask\n",
    "\n",
    "+ Stratified sampling in `dask` can be achieved with `groupby().apply()` and a lambda function."
   ]
  },
  {
   "cell_type": "code",
   "execution_count": 13,
   "metadata": {},
   "outputs": [
    {
     "name": "stderr",
     "output_type": "stream",
     "text": [
      "C:\\Users\\15199\\AppData\\Local\\Temp\\ipykernel_23424\\2388710987.py:2: UserWarning: `meta` is not specified, inferred from partial data. Please provide `meta` if the result is unexpected.\n",
      "  Before: .apply(func)\n",
      "  After:  .apply(func, meta={'x': 'f8', 'y': 'f8'}) for dataframe result\n",
      "  or:     .apply(func, meta=('x', 'f8'))            for series result\n",
      "  strat_sample_dd_dt = (dd_dt\n"
     ]
    },
    {
     "data": {
      "text/plain": [
       "<Axes: xlabel='Ticker'>"
      ]
     },
     "execution_count": 13,
     "metadata": {},
     "output_type": "execute_result"
    },
    {
     "data": {
      "image/png": "[encoded data removed]",
      "text/plain": [
       "<Figure size 640x480 with 1 Axes>"
      ]
     },
     "metadata": {},
     "output_type": "display_data"
    }
   ],
   "source": [
    "dd_dt = dd.read_parquet(ft_glob)\n",
    "strat_sample_dd_dt = (dd_dt\n",
    "                      .groupby('Ticker', group_keys=False)\n",
    "                      .apply(lambda x: x.sample(frac = 0.1))\n",
    "                      .compute()\n",
    "                      .reset_index())\n",
    "strat_sample_dd_dt[strat_sample_dd_dt['Ticker'].isin(select_tickers)]['Ticker'].value_counts().plot(kind='bar')"
   ]
  }
 ],
 "metadata": {
  "kernelspec": {
   "display_name": "dsi_participant",
   "language": "python",
   "name": "python3"
  },
  "language_info": {
   "codemirror_mode": {
    "name": "ipython",
    "version": 3
   },
   "file_extension": ".py",
   "mimetype": "text/x-python",
   "name": "python",
   "nbconvert_exporter": "python",
   "pygments_lexer": "ipython3",
   "version": "3.9.15"
  }
 },
 "nbformat": 4,
 "nbformat_minor": 2
}
